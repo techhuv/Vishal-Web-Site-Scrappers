{
 "cells": [
  {
   "cell_type": "code",
   "execution_count": 133,
   "metadata": {},
   "outputs": [],
   "source": [
    "#system libraries\n",
    "import os\n",
    "import random\n",
    "import time\n",
    "\n",
    "#selenium libraries\n",
    "from selenium import webdriver\n",
    "from selenium.webdriver.common.keys import Keys\n",
    "from webdriver_manager.chrome import ChromeDriverManager\n",
    "from selenium.webdriver.support.ui import Select\n",
    "from selenium.common.exceptions import NoSuchElementException   \n",
    "from selenium.webdriver.support.ui import WebDriverWait\n",
    "from selenium.webdriver.support import expected_conditions as EC\n",
    "from selenium.webdriver.common.by import By\n",
    "from selenium.common.exceptions import TimeoutException\n",
    "from selenium.common.exceptions import UnexpectedAlertPresentException\n",
    "from selenium.webdriver.chrome.options import Options\n",
    "from datetime import date\n",
    "import pyautogui"
   ]
  },
  {
   "cell_type": "code",
   "execution_count": 134,
   "metadata": {},
   "outputs": [],
   "source": [
    "from selenium.webdriver.support.ui import WebDriverWait\n",
    "\n",
    "\n",
    "def get_clear_browsing_button(driver):\n",
    "    \"\"\"Find the \"CLEAR BROWSING BUTTON\" on the Chrome settings page.\"\"\"\n",
    "    return driver.find_element_by_css_selector('* /deep/ #clearBrowsingDataConfirm')\n",
    "\n",
    "\n",
    "def clear_cache(driver, timeout=60):\n",
    "    \"\"\"Clear the cookies and cache for the ChromeDriver instance.\"\"\"\n",
    "    # navigate to the settings page\n",
    "    driver.get('chrome://settings/clearBrowserData')\n",
    "\n",
    "    # wait for the button to appear\n",
    "    wait = WebDriverWait(driver, timeout)\n",
    "    wait.until(get_clear_browsing_button)\n",
    "\n",
    "    # click the button to clear the cache\n",
    "    get_clear_browsing_button(driver).click()\n",
    "\n",
    "    # wait for the button to be gone before returning\n",
    "    wait.until_not(get_clear_browsing_button)"
   ]
  },
  {
   "cell_type": "code",
   "execution_count": null,
   "metadata": {},
   "outputs": [],
   "source": [
    "\n",
    "\n"
   ]
  },
  {
   "cell_type": "code",
   "execution_count": 135,
   "metadata": {},
   "outputs": [],
   "source": [
    "net_path = os.getcwd()\n",
    "net_path = net_path.replace('\\\\','/')\n",
    "net_path = net_path.join('//')\n",
    "net_path=net_path[1:]"
   ]
  },
  {
   "cell_type": "code",
   "execution_count": 136,
   "metadata": {},
   "outputs": [
    {
     "data": {
      "text/plain": [
       "'C:/Users/visha/Desktop/Harshit/Web site projects/NSE Freelancing Project/'"
      ]
     },
     "execution_count": 136,
     "metadata": {},
     "output_type": "execute_result"
    }
   ],
   "source": [
    "net_path"
   ]
  },
  {
   "cell_type": "code",
   "execution_count": 137,
   "metadata": {},
   "outputs": [],
   "source": [
    "# var chromeOptions = new ChromeOptions();\n",
    "# chromeOptions.AddUserProfilePreference(\"download.default_directory\", \"Your_Path\");\n",
    "# chromeOptions.AddUserProfilePreference(\"intl.accept_languages\", \"nl\");\n",
    "# chromeOptions.AddUserProfilePreference(\"disable-popup-blocking\", \"true\");\n",
    "# var driver = new ChromeDriver(\"Driver_Path\", chromeOptions);"
   ]
  },
  {
   "cell_type": "code",
   "execution_count": 138,
   "metadata": {},
   "outputs": [],
   "source": [
    "head = 'https://www.nseindia.com/api/reports?archives=%5B%7B%22name%22%3A%22NSE%20Market%20Pulse%20(.pdf)%22%2C%22type%22%3A%22archives%22%2C%22category%22%3A%22capital-market%22%2C%22section%22%3A%22equities%22%7D%2C%7B%22name%22%3A%22CM%20-%20VaR%20Margin%20Rates%20(1st%20intra-day)%22%2C%22type%22%3A%22archives%22%2C%22category%22%3A%22capital-market%22%2C%22section%22%3A%22equities%22%7D%2C%7B%22name%22%3A%22CM%20-%20VaR%20Margin%20Rates%20(2nd%20intra-day)%22%2C%22type%22%3A%22archives%22%2C%22category%22%3A%22capital-market%22%2C%22section%22%3A%22equities%22%7D%2C%7B%22name%22%3A%22CM%20-%20VaR%20Margin%20Rates%20(3rd%20intra-day)%22%2C%22type%22%3A%22archives%22%2C%22category%22%3A%22capital-market%22%2C%22section%22%3A%22equities%22%7D%2C%7B%22name%22%3A%22CM%20-%20VaR%20Margin%20Rates%20(4th%20intra-day)%22%2C%22type%22%3A%22archives%22%2C%22category%22%3A%22capital-market%22%2C%22section%22%3A%22equities%22%7D%2C%7B%22name%22%3A%22CM%20-%20VaR%20Margin%20Rates%20(End%20of%20day)%22%2C%22type%22%3A%22archives%22%2C%22category%22%3A%22capital-market%22%2C%22section%22%3A%22equities%22%7D%2C%7B%22name%22%3A%22CM%20-%20VaR%20Margin%20Rates%20(Begin%20of%20day)%22%2C%22type%22%3A%22archives%22%2C%22category%22%3A%22capital-market%22%2C%22section%22%3A%22equities%22%7D%2C%7B%22name%22%3A%22CM%20-%20Daily%20Volatility%22%2C%22type%22%3A%22archives%22%2C%22category%22%3A%22capital-market%22%2C%22section%22%3A%22equities%22%7D%2C%7B%22name%22%3A%22CM%20-%20Category-wise%20Turnover%22%2C%22type%22%3A%22archives%22%2C%22category%22%3A%22capital-market%22%2C%22section%22%3A%22equities%22%7D%2C%7B%22name%22%3A%22CM%20-%20Bhavcopy(csv)%22%2C%22type%22%3A%22archives%22%2C%22category%22%3A%22capital-market%22%2C%22section%22%3A%22equities%22%7D%2C%7B%22name%22%3A%22CM%20-%20Bhavcopy%20(PR.zip)%22%2C%22type%22%3A%22archives%22%2C%22category%22%3A%22capital-market%22%2C%22section%22%3A%22equities%22%7D%2C%7B%22name%22%3A%22CM%20-%20Short%20Selling%22%2C%22type%22%3A%22archives%22%2C%22category%22%3A%22capital-market%22%2C%22section%22%3A%22equities%22%7D%2C%7B%22name%22%3A%22CM%20-%20Close%20Out%20prices%20(.csv)%22%2C%22type%22%3A%22archives%22%2C%22category%22%3A%22capital-market%22%2C%22section%22%3A%22equities%22%7D%2C%7B%22name%22%3A%22CM%20-%20Market%20Activity%20Report%22%2C%22type%22%3A%22archives%22%2C%22category%22%3A%22capital-market%22%2C%22section%22%3A%22equities%22%7D%2C%7B%22name%22%3A%22CM%20-%20Security-wise%20Delivery%20Positions%22%2C%22type%22%3A%22archives%22%2C%22category%22%3A%22capital-market%22%2C%22section%22%3A%22equities%22%7D%2C%7B%22name%22%3A%22CM%20-%20Margin%20Trading%20Disclosure%22%2C%22type%22%3A%22archives%22%2C%22category%22%3A%22capital-market%22%2C%22section%22%3A%22equities%22%7D%2C%7B%22name%22%3A%22Client%20Funding%22%2C%22type%22%3A%22archives%22%2C%22category%22%3A%22capital-market%22%2C%22section%22%3A%22equities%22%7D%2C%7B%22name%22%3A%22VaR%20Multiplier%20files%22%2C%22type%22%3A%22archives%22%2C%22category%22%3A%22capital-market%22%2C%22section%22%3A%22equities%22%7D%2C%7B%22name%22%3A%22ALBM%20Yield%20Statistics%22%2C%22type%22%3A%22archives%22%2C%22category%22%3A%22capital-market%22%2C%22section%22%3A%22equities%22%7D%2C%7B%22name%22%3A%22Extreme%20Loss%20Margin%22%2C%22type%22%3A%22archives%22%2C%22category%22%3A%22capital-market%22%2C%22section%22%3A%22equities%22%7D%2C%7B%22name%22%3A%22CM%20-%20Security%20Catergory%20Impact%20Cost%20(.T01)%22%2C%22type%22%3A%22monthly-reports%22%2C%22category%22%3A%22capital-market%22%2C%22section%22%3A%22equities%22%7D%2C%7B%22name%22%3A%22SME%20-%20BHAVCOPY%20(.csv)%22%2C%22type%22%3A%22monthly-reports%22%2C%22category%22%3A%22capital-market%22%2C%22section%22%3A%22equities%22%7D%5D&date='\n",
    "#date = '05-Nov-2020'\n",
    "tail = '&type=Archives'"
   ]
  },
  {
   "cell_type": "code",
   "execution_count": 139,
   "metadata": {},
   "outputs": [
    {
     "name": "stdout",
     "output_type": "stream",
     "text": [
      "['03-May-2017', '04-May-2017', '05-May-2017', '06-May-2017', '07-May-2017', '08-May-2017', '09-May-2017', '10-May-2017']\n"
     ]
    }
   ],
   "source": [
    "import pandas as pd\n",
    "date1 = '2017-05-03'\n",
    "date2 = '2017-05-10'\n",
    "mydates = pd.date_range(date1, date2).strftime(\"%d-%b-%Y\").tolist()\n",
    "print(mydates)"
   ]
  },
  {
   "cell_type": "code",
   "execution_count": 142,
   "metadata": {},
   "outputs": [
    {
     "name": "stderr",
     "output_type": "stream",
     "text": [
      "[WDM] - Current google-chrome version is 87.0.4280\n",
      "[WDM] - Get LATEST driver version for 87.0.4280\n",
      "[WDM] - Driver [C:\\Users\\visha\\.wdm\\drivers\\chromedriver\\win32\\87.0.4280.20\\chromedriver.exe] found in cache\n"
     ]
    },
    {
     "name": "stdout",
     "output_type": "stream",
     "text": [
      " \n"
     ]
    },
    {
     "name": "stderr",
     "output_type": "stream",
     "text": [
      "[WDM] - Current google-chrome version is 87.0.4280\n",
      "[WDM] - Get LATEST driver version for 87.0.4280\n",
      "[WDM] - Driver [C:\\Users\\visha\\.wdm\\drivers\\chromedriver\\win32\\87.0.4280.20\\chromedriver.exe] found in cache\n"
     ]
    },
    {
     "name": "stdout",
     "output_type": "stream",
     "text": [
      " \n"
     ]
    },
    {
     "name": "stderr",
     "output_type": "stream",
     "text": [
      "[WDM] - Current google-chrome version is 87.0.4280\n",
      "[WDM] - Get LATEST driver version for 87.0.4280\n"
     ]
    },
    {
     "name": "stdout",
     "output_type": "stream",
     "text": [
      " \n"
     ]
    },
    {
     "name": "stderr",
     "output_type": "stream",
     "text": [
      "[WDM] - Driver [C:\\Users\\visha\\.wdm\\drivers\\chromedriver\\win32\\87.0.4280.20\\chromedriver.exe] found in cache\n",
      "[WDM] - Current google-chrome version is 87.0.4280\n",
      "[WDM] - Get LATEST driver version for 87.0.4280\n",
      "[WDM] - Driver [C:\\Users\\visha\\.wdm\\drivers\\chromedriver\\win32\\87.0.4280.20\\chromedriver.exe] found in cache\n"
     ]
    },
    {
     "name": "stdout",
     "output_type": "stream",
     "text": [
      " \n"
     ]
    },
    {
     "name": "stderr",
     "output_type": "stream",
     "text": [
      "[WDM] - Current google-chrome version is 87.0.4280\n",
      "[WDM] - Get LATEST driver version for 87.0.4280\n"
     ]
    },
    {
     "name": "stdout",
     "output_type": "stream",
     "text": [
      " \n"
     ]
    },
    {
     "name": "stderr",
     "output_type": "stream",
     "text": [
      "[WDM] - Driver [C:\\Users\\visha\\.wdm\\drivers\\chromedriver\\win32\\87.0.4280.20\\chromedriver.exe] found in cache\n",
      "[WDM] - Current google-chrome version is 87.0.4280\n",
      "[WDM] - Get LATEST driver version for 87.0.4280\n",
      "[WDM] - Driver [C:\\Users\\visha\\.wdm\\drivers\\chromedriver\\win32\\87.0.4280.20\\chromedriver.exe] found in cache\n"
     ]
    },
    {
     "name": "stdout",
     "output_type": "stream",
     "text": [
      " \n"
     ]
    },
    {
     "name": "stderr",
     "output_type": "stream",
     "text": [
      "[WDM] - Current google-chrome version is 87.0.4280\n",
      "[WDM] - Get LATEST driver version for 87.0.4280\n",
      "[WDM] - Driver [C:\\Users\\visha\\.wdm\\drivers\\chromedriver\\win32\\87.0.4280.20\\chromedriver.exe] found in cache\n"
     ]
    },
    {
     "name": "stdout",
     "output_type": "stream",
     "text": [
      " \n"
     ]
    },
    {
     "name": "stderr",
     "output_type": "stream",
     "text": [
      "[WDM] - Current google-chrome version is 87.0.4280\n",
      "[WDM] - Get LATEST driver version for 87.0.4280\n",
      "[WDM] - Driver [C:\\Users\\visha\\.wdm\\drivers\\chromedriver\\win32\\87.0.4280.20\\chromedriver.exe] found in cache\n"
     ]
    },
    {
     "name": "stdout",
     "output_type": "stream",
     "text": [
      " \n"
     ]
    }
   ],
   "source": [
    "def delay ():\n",
    "    time.sleep(2)\n",
    "\n",
    "try:\n",
    "    #create chrome driver\n",
    "    #driver = webdriver.Chrome(ChromeDriverManager().install())\n",
    "    delay()\n",
    "    #go to website\n",
    "    for i in mydates:\n",
    "# --------------------------------------------------------------------------------------------------------------\n",
    "#         chrome_options = Options()\n",
    "#         prefs = {\"profile.default_content_setting_values.notifications\" : 2,'download.default_directory' : net_path}  #block notifications\n",
    "#         chrome_options.add_experimental_option(\"prefs\",prefs)\n",
    "#         chrome_options.add_argument(\"--no-sandbox\")\n",
    "#         chrome_options.add_argument(\"--disable-dev-shm-usage\")\n",
    "#----------------------------------------------------------------------------------------------------------------\n",
    "\n",
    "\n",
    "        driver = webdriver.Chrome(ChromeDriverManager().install())\n",
    "        #clear_cache(driver)\n",
    "        driver.get('https://www.nseindia.com/all-reports')\n",
    "        driver.get(head+i+tail)\n",
    "        time.sleep(5)\n",
    "        driver.close()\n",
    "    \n",
    "except:\n",
    "    print(\"[-] Please update the chromedriver.exe in the webdriver folder according to your chrome version:https://chromedriver.chromium.org/downloads\")\n"
   ]
  },
  {
   "cell_type": "code",
   "execution_count": 116,
   "metadata": {},
   "outputs": [
    {
     "data": {
      "text/plain": [
       "'C:\\\\Users\\\\visha\\\\Desktop\\\\Harshit\\\\Web site projects\\\\NSE Freelancing Project'"
      ]
     },
     "execution_count": 116,
     "metadata": {},
     "output_type": "execute_result"
    }
   ],
   "source": [
    "os.getcwd()"
   ]
  },
  {
   "cell_type": "code",
   "execution_count": 28,
   "metadata": {},
   "outputs": [
    {
     "name": "stdout",
     "output_type": "stream",
     "text": [
      "https://www.nseindia.com/api/reports?archives=%5B%7B%22name%22%3A%22NSE%20Market%20Pulse%20(.pdf)%22%2C%22type%22%3A%22archives%22%2C%22category%22%3A%22capital-market%22%2C%22section%22%3A%22equities%22%7D%2C%7B%22name%22%3A%22CM%20-%20VaR%20Margin%20Rates%20(1st%20intra-day)%22%2C%22type%22%3A%22archives%22%2C%22category%22%3A%22capital-market%22%2C%22section%22%3A%22equities%22%7D%2C%7B%22name%22%3A%22CM%20-%20VaR%20Margin%20Rates%20(2nd%20intra-day)%22%2C%22type%22%3A%22archives%22%2C%22category%22%3A%22capital-market%22%2C%22section%22%3A%22equities%22%7D%2C%7B%22name%22%3A%22CM%20-%20VaR%20Margin%20Rates%20(3rd%20intra-day)%22%2C%22type%22%3A%22archives%22%2C%22category%22%3A%22capital-market%22%2C%22section%22%3A%22equities%22%7D%2C%7B%22name%22%3A%22CM%20-%20VaR%20Margin%20Rates%20(4th%20intra-day)%22%2C%22type%22%3A%22archives%22%2C%22category%22%3A%22capital-market%22%2C%22section%22%3A%22equities%22%7D%2C%7B%22name%22%3A%22CM%20-%20VaR%20Margin%20Rates%20(End%20of%20day)%22%2C%22type%22%3A%22archives%22%2C%22category%22%3A%22capital-market%22%2C%22section%22%3A%22equities%22%7D%2C%7B%22name%22%3A%22CM%20-%20VaR%20Margin%20Rates%20(Begin%20of%20day)%22%2C%22type%22%3A%22archives%22%2C%22category%22%3A%22capital-market%22%2C%22section%22%3A%22equities%22%7D%2C%7B%22name%22%3A%22CM%20-%20Daily%20Volatility%22%2C%22type%22%3A%22archives%22%2C%22category%22%3A%22capital-market%22%2C%22section%22%3A%22equities%22%7D%2C%7B%22name%22%3A%22CM%20-%20Category-wise%20Turnover%22%2C%22type%22%3A%22archives%22%2C%22category%22%3A%22capital-market%22%2C%22section%22%3A%22equities%22%7D%2C%7B%22name%22%3A%22CM%20-%20Bhavcopy(csv)%22%2C%22type%22%3A%22archives%22%2C%22category%22%3A%22capital-market%22%2C%22section%22%3A%22equities%22%7D%2C%7B%22name%22%3A%22CM%20-%20Bhavcopy%20(PR.zip)%22%2C%22type%22%3A%22archives%22%2C%22category%22%3A%22capital-market%22%2C%22section%22%3A%22equities%22%7D%2C%7B%22name%22%3A%22CM%20-%20Short%20Selling%22%2C%22type%22%3A%22archives%22%2C%22category%22%3A%22capital-market%22%2C%22section%22%3A%22equities%22%7D%2C%7B%22name%22%3A%22CM%20-%20Close%20Out%20prices%20(.csv)%22%2C%22type%22%3A%22archives%22%2C%22category%22%3A%22capital-market%22%2C%22section%22%3A%22equities%22%7D%2C%7B%22name%22%3A%22CM%20-%20Market%20Activity%20Report%22%2C%22type%22%3A%22archives%22%2C%22category%22%3A%22capital-market%22%2C%22section%22%3A%22equities%22%7D%2C%7B%22name%22%3A%22CM%20-%20Security-wise%20Delivery%20Positions%22%2C%22type%22%3A%22archives%22%2C%22category%22%3A%22capital-market%22%2C%22section%22%3A%22equities%22%7D%2C%7B%22name%22%3A%22CM%20-%20Margin%20Trading%20Disclosure%22%2C%22type%22%3A%22archives%22%2C%22category%22%3A%22capital-market%22%2C%22section%22%3A%22equities%22%7D%2C%7B%22name%22%3A%22Client%20Funding%22%2C%22type%22%3A%22archives%22%2C%22category%22%3A%22capital-market%22%2C%22section%22%3A%22equities%22%7D%2C%7B%22name%22%3A%22VaR%20Multiplier%20files%22%2C%22type%22%3A%22archives%22%2C%22category%22%3A%22capital-market%22%2C%22section%22%3A%22equities%22%7D%2C%7B%22name%22%3A%22ALBM%20Yield%20Statistics%22%2C%22type%22%3A%22archives%22%2C%22category%22%3A%22capital-market%22%2C%22section%22%3A%22equities%22%7D%2C%7B%22name%22%3A%22Extreme%20Loss%20Margin%22%2C%22type%22%3A%22archives%22%2C%22category%22%3A%22capital-market%22%2C%22section%22%3A%22equities%22%7D%2C%7B%22name%22%3A%22CM%20-%20Security%20Catergory%20Impact%20Cost%20(.T01)%22%2C%22type%22%3A%22monthly-reports%22%2C%22category%22%3A%22capital-market%22%2C%22section%22%3A%22equities%22%7D%2C%7B%22name%22%3A%22SME%20-%20BHAVCOPY%20(.csv)%22%2C%22type%22%3A%22monthly-reports%22%2C%22category%22%3A%22capital-market%22%2C%22section%22%3A%22equities%22%7D%5D&date=03-May-2011&type=Archives\n",
      "https://www.nseindia.com/api/reports?archives=%5B%7B%22name%22%3A%22NSE%20Market%20Pulse%20(.pdf)%22%2C%22type%22%3A%22archives%22%2C%22category%22%3A%22capital-market%22%2C%22section%22%3A%22equities%22%7D%2C%7B%22name%22%3A%22CM%20-%20VaR%20Margin%20Rates%20(1st%20intra-day)%22%2C%22type%22%3A%22archives%22%2C%22category%22%3A%22capital-market%22%2C%22section%22%3A%22equities%22%7D%2C%7B%22name%22%3A%22CM%20-%20VaR%20Margin%20Rates%20(2nd%20intra-day)%22%2C%22type%22%3A%22archives%22%2C%22category%22%3A%22capital-market%22%2C%22section%22%3A%22equities%22%7D%2C%7B%22name%22%3A%22CM%20-%20VaR%20Margin%20Rates%20(3rd%20intra-day)%22%2C%22type%22%3A%22archives%22%2C%22category%22%3A%22capital-market%22%2C%22section%22%3A%22equities%22%7D%2C%7B%22name%22%3A%22CM%20-%20VaR%20Margin%20Rates%20(4th%20intra-day)%22%2C%22type%22%3A%22archives%22%2C%22category%22%3A%22capital-market%22%2C%22section%22%3A%22equities%22%7D%2C%7B%22name%22%3A%22CM%20-%20VaR%20Margin%20Rates%20(End%20of%20day)%22%2C%22type%22%3A%22archives%22%2C%22category%22%3A%22capital-market%22%2C%22section%22%3A%22equities%22%7D%2C%7B%22name%22%3A%22CM%20-%20VaR%20Margin%20Rates%20(Begin%20of%20day)%22%2C%22type%22%3A%22archives%22%2C%22category%22%3A%22capital-market%22%2C%22section%22%3A%22equities%22%7D%2C%7B%22name%22%3A%22CM%20-%20Daily%20Volatility%22%2C%22type%22%3A%22archives%22%2C%22category%22%3A%22capital-market%22%2C%22section%22%3A%22equities%22%7D%2C%7B%22name%22%3A%22CM%20-%20Category-wise%20Turnover%22%2C%22type%22%3A%22archives%22%2C%22category%22%3A%22capital-market%22%2C%22section%22%3A%22equities%22%7D%2C%7B%22name%22%3A%22CM%20-%20Bhavcopy(csv)%22%2C%22type%22%3A%22archives%22%2C%22category%22%3A%22capital-market%22%2C%22section%22%3A%22equities%22%7D%2C%7B%22name%22%3A%22CM%20-%20Bhavcopy%20(PR.zip)%22%2C%22type%22%3A%22archives%22%2C%22category%22%3A%22capital-market%22%2C%22section%22%3A%22equities%22%7D%2C%7B%22name%22%3A%22CM%20-%20Short%20Selling%22%2C%22type%22%3A%22archives%22%2C%22category%22%3A%22capital-market%22%2C%22section%22%3A%22equities%22%7D%2C%7B%22name%22%3A%22CM%20-%20Close%20Out%20prices%20(.csv)%22%2C%22type%22%3A%22archives%22%2C%22category%22%3A%22capital-market%22%2C%22section%22%3A%22equities%22%7D%2C%7B%22name%22%3A%22CM%20-%20Market%20Activity%20Report%22%2C%22type%22%3A%22archives%22%2C%22category%22%3A%22capital-market%22%2C%22section%22%3A%22equities%22%7D%2C%7B%22name%22%3A%22CM%20-%20Security-wise%20Delivery%20Positions%22%2C%22type%22%3A%22archives%22%2C%22category%22%3A%22capital-market%22%2C%22section%22%3A%22equities%22%7D%2C%7B%22name%22%3A%22CM%20-%20Margin%20Trading%20Disclosure%22%2C%22type%22%3A%22archives%22%2C%22category%22%3A%22capital-market%22%2C%22section%22%3A%22equities%22%7D%2C%7B%22name%22%3A%22Client%20Funding%22%2C%22type%22%3A%22archives%22%2C%22category%22%3A%22capital-market%22%2C%22section%22%3A%22equities%22%7D%2C%7B%22name%22%3A%22VaR%20Multiplier%20files%22%2C%22type%22%3A%22archives%22%2C%22category%22%3A%22capital-market%22%2C%22section%22%3A%22equities%22%7D%2C%7B%22name%22%3A%22ALBM%20Yield%20Statistics%22%2C%22type%22%3A%22archives%22%2C%22category%22%3A%22capital-market%22%2C%22section%22%3A%22equities%22%7D%2C%7B%22name%22%3A%22Extreme%20Loss%20Margin%22%2C%22type%22%3A%22archives%22%2C%22category%22%3A%22capital-market%22%2C%22section%22%3A%22equities%22%7D%2C%7B%22name%22%3A%22CM%20-%20Security%20Catergory%20Impact%20Cost%20(.T01)%22%2C%22type%22%3A%22monthly-reports%22%2C%22category%22%3A%22capital-market%22%2C%22section%22%3A%22equities%22%7D%2C%7B%22name%22%3A%22SME%20-%20BHAVCOPY%20(.csv)%22%2C%22type%22%3A%22monthly-reports%22%2C%22category%22%3A%22capital-market%22%2C%22section%22%3A%22equities%22%7D%5D&date=04-May-2011&type=Archives\n",
      "https://www.nseindia.com/api/reports?archives=%5B%7B%22name%22%3A%22NSE%20Market%20Pulse%20(.pdf)%22%2C%22type%22%3A%22archives%22%2C%22category%22%3A%22capital-market%22%2C%22section%22%3A%22equities%22%7D%2C%7B%22name%22%3A%22CM%20-%20VaR%20Margin%20Rates%20(1st%20intra-day)%22%2C%22type%22%3A%22archives%22%2C%22category%22%3A%22capital-market%22%2C%22section%22%3A%22equities%22%7D%2C%7B%22name%22%3A%22CM%20-%20VaR%20Margin%20Rates%20(2nd%20intra-day)%22%2C%22type%22%3A%22archives%22%2C%22category%22%3A%22capital-market%22%2C%22section%22%3A%22equities%22%7D%2C%7B%22name%22%3A%22CM%20-%20VaR%20Margin%20Rates%20(3rd%20intra-day)%22%2C%22type%22%3A%22archives%22%2C%22category%22%3A%22capital-market%22%2C%22section%22%3A%22equities%22%7D%2C%7B%22name%22%3A%22CM%20-%20VaR%20Margin%20Rates%20(4th%20intra-day)%22%2C%22type%22%3A%22archives%22%2C%22category%22%3A%22capital-market%22%2C%22section%22%3A%22equities%22%7D%2C%7B%22name%22%3A%22CM%20-%20VaR%20Margin%20Rates%20(End%20of%20day)%22%2C%22type%22%3A%22archives%22%2C%22category%22%3A%22capital-market%22%2C%22section%22%3A%22equities%22%7D%2C%7B%22name%22%3A%22CM%20-%20VaR%20Margin%20Rates%20(Begin%20of%20day)%22%2C%22type%22%3A%22archives%22%2C%22category%22%3A%22capital-market%22%2C%22section%22%3A%22equities%22%7D%2C%7B%22name%22%3A%22CM%20-%20Daily%20Volatility%22%2C%22type%22%3A%22archives%22%2C%22category%22%3A%22capital-market%22%2C%22section%22%3A%22equities%22%7D%2C%7B%22name%22%3A%22CM%20-%20Category-wise%20Turnover%22%2C%22type%22%3A%22archives%22%2C%22category%22%3A%22capital-market%22%2C%22section%22%3A%22equities%22%7D%2C%7B%22name%22%3A%22CM%20-%20Bhavcopy(csv)%22%2C%22type%22%3A%22archives%22%2C%22category%22%3A%22capital-market%22%2C%22section%22%3A%22equities%22%7D%2C%7B%22name%22%3A%22CM%20-%20Bhavcopy%20(PR.zip)%22%2C%22type%22%3A%22archives%22%2C%22category%22%3A%22capital-market%22%2C%22section%22%3A%22equities%22%7D%2C%7B%22name%22%3A%22CM%20-%20Short%20Selling%22%2C%22type%22%3A%22archives%22%2C%22category%22%3A%22capital-market%22%2C%22section%22%3A%22equities%22%7D%2C%7B%22name%22%3A%22CM%20-%20Close%20Out%20prices%20(.csv)%22%2C%22type%22%3A%22archives%22%2C%22category%22%3A%22capital-market%22%2C%22section%22%3A%22equities%22%7D%2C%7B%22name%22%3A%22CM%20-%20Market%20Activity%20Report%22%2C%22type%22%3A%22archives%22%2C%22category%22%3A%22capital-market%22%2C%22section%22%3A%22equities%22%7D%2C%7B%22name%22%3A%22CM%20-%20Security-wise%20Delivery%20Positions%22%2C%22type%22%3A%22archives%22%2C%22category%22%3A%22capital-market%22%2C%22section%22%3A%22equities%22%7D%2C%7B%22name%22%3A%22CM%20-%20Margin%20Trading%20Disclosure%22%2C%22type%22%3A%22archives%22%2C%22category%22%3A%22capital-market%22%2C%22section%22%3A%22equities%22%7D%2C%7B%22name%22%3A%22Client%20Funding%22%2C%22type%22%3A%22archives%22%2C%22category%22%3A%22capital-market%22%2C%22section%22%3A%22equities%22%7D%2C%7B%22name%22%3A%22VaR%20Multiplier%20files%22%2C%22type%22%3A%22archives%22%2C%22category%22%3A%22capital-market%22%2C%22section%22%3A%22equities%22%7D%2C%7B%22name%22%3A%22ALBM%20Yield%20Statistics%22%2C%22type%22%3A%22archives%22%2C%22category%22%3A%22capital-market%22%2C%22section%22%3A%22equities%22%7D%2C%7B%22name%22%3A%22Extreme%20Loss%20Margin%22%2C%22type%22%3A%22archives%22%2C%22category%22%3A%22capital-market%22%2C%22section%22%3A%22equities%22%7D%2C%7B%22name%22%3A%22CM%20-%20Security%20Catergory%20Impact%20Cost%20(.T01)%22%2C%22type%22%3A%22monthly-reports%22%2C%22category%22%3A%22capital-market%22%2C%22section%22%3A%22equities%22%7D%2C%7B%22name%22%3A%22SME%20-%20BHAVCOPY%20(.csv)%22%2C%22type%22%3A%22monthly-reports%22%2C%22category%22%3A%22capital-market%22%2C%22section%22%3A%22equities%22%7D%5D&date=05-May-2011&type=Archives\n"
     ]
    }
   ],
   "source": [
    "for i in mydates:\n",
    "    print(head+i+tail)"
   ]
  },
  {
   "cell_type": "code",
   "execution_count": 29,
   "metadata": {},
   "outputs": [],
   "source": [
    "#----------------------------------------------------------------------------------------"
   ]
  },
  {
   "cell_type": "code",
   "execution_count": null,
   "metadata": {},
   "outputs": [],
   "source": [
    "var chromeOptions = new ChromeOptions();\n",
    "chromeOptions.AddUserProfilePreference(\"download.default_directory\", \"Your_Path\");\n",
    "chromeOptions.AddUserProfilePreference(\"intl.accept_languages\", \"nl\");\n",
    "chromeOptions.AddUserProfilePreference(\"disable-popup-blocking\", \"true\");\n",
    "var driver = new ChromeDriver(\"Driver_Path\", chromeOptions);"
   ]
  }
 ],
 "metadata": {
  "kernelspec": {
   "display_name": "Python 3",
   "language": "python",
   "name": "python3"
  },
  "language_info": {
   "codemirror_mode": {
    "name": "ipython",
    "version": 3
   },
   "file_extension": ".py",
   "mimetype": "text/x-python",
   "name": "python",
   "nbconvert_exporter": "python",
   "pygments_lexer": "ipython3",
   "version": "3.7.3"
  }
 },
 "nbformat": 4,
 "nbformat_minor": 2
}
