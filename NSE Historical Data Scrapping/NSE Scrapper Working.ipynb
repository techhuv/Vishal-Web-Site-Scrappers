{
 "cells": [
  {
   "cell_type": "code",
   "execution_count": 194,
   "metadata": {},
   "outputs": [],
   "source": [
    "#system libraries\n",
    "import os\n",
    "import random\n",
    "import time\n",
    "\n",
    "#selenium libraries\n",
    "from datetime import date\n",
    "import pyautogui\n",
    "import webbrowser"
   ]
  },
  {
   "cell_type": "code",
   "execution_count": 195,
   "metadata": {},
   "outputs": [],
   "source": [
    "path = os.getcwd()"
   ]
  },
  {
   "cell_type": "code",
   "execution_count": 196,
   "metadata": {},
   "outputs": [],
   "source": [
    "# var chromeOptions = new ChromeOptions();\n",
    "# chromeOptions.AddUserProfilePreference(\"download.default_directory\", \"Your_Path\");\n",
    "# chromeOptions.AddUserProfilePreference(\"intl.accept_languages\", \"nl\");\n",
    "# chromeOptions.AddUserProfilePreference(\"disable-popup-blocking\", \"true\");\n",
    "# var driver = new ChromeDriver(\"Driver_Path\", chromeOptions);"
   ]
  },
  {
   "cell_type": "code",
   "execution_count": 197,
   "metadata": {},
   "outputs": [],
   "source": [
    "head = 'https://www.nseindia.com/api/reports?archives=%5B%7B%22name%22%3A%22NSE%20Market%20Pulse%20(.pdf)%22%2C%22type%22%3A%22archives%22%2C%22category%22%3A%22capital-market%22%2C%22section%22%3A%22equities%22%7D%2C%7B%22name%22%3A%22CM%20-%20VaR%20Margin%20Rates%20(1st%20intra-day)%22%2C%22type%22%3A%22archives%22%2C%22category%22%3A%22capital-market%22%2C%22section%22%3A%22equities%22%7D%2C%7B%22name%22%3A%22CM%20-%20VaR%20Margin%20Rates%20(2nd%20intra-day)%22%2C%22type%22%3A%22archives%22%2C%22category%22%3A%22capital-market%22%2C%22section%22%3A%22equities%22%7D%2C%7B%22name%22%3A%22CM%20-%20VaR%20Margin%20Rates%20(3rd%20intra-day)%22%2C%22type%22%3A%22archives%22%2C%22category%22%3A%22capital-market%22%2C%22section%22%3A%22equities%22%7D%2C%7B%22name%22%3A%22CM%20-%20VaR%20Margin%20Rates%20(4th%20intra-day)%22%2C%22type%22%3A%22archives%22%2C%22category%22%3A%22capital-market%22%2C%22section%22%3A%22equities%22%7D%2C%7B%22name%22%3A%22CM%20-%20VaR%20Margin%20Rates%20(End%20of%20day)%22%2C%22type%22%3A%22archives%22%2C%22category%22%3A%22capital-market%22%2C%22section%22%3A%22equities%22%7D%2C%7B%22name%22%3A%22CM%20-%20VaR%20Margin%20Rates%20(Begin%20of%20day)%22%2C%22type%22%3A%22archives%22%2C%22category%22%3A%22capital-market%22%2C%22section%22%3A%22equities%22%7D%2C%7B%22name%22%3A%22CM%20-%20Daily%20Volatility%22%2C%22type%22%3A%22archives%22%2C%22category%22%3A%22capital-market%22%2C%22section%22%3A%22equities%22%7D%2C%7B%22name%22%3A%22CM%20-%20Category-wise%20Turnover%22%2C%22type%22%3A%22archives%22%2C%22category%22%3A%22capital-market%22%2C%22section%22%3A%22equities%22%7D%2C%7B%22name%22%3A%22CM%20-%20Bhavcopy(csv)%22%2C%22type%22%3A%22archives%22%2C%22category%22%3A%22capital-market%22%2C%22section%22%3A%22equities%22%7D%2C%7B%22name%22%3A%22CM%20-%20Bhavcopy%20(PR.zip)%22%2C%22type%22%3A%22archives%22%2C%22category%22%3A%22capital-market%22%2C%22section%22%3A%22equities%22%7D%2C%7B%22name%22%3A%22CM%20-%20Short%20Selling%22%2C%22type%22%3A%22archives%22%2C%22category%22%3A%22capital-market%22%2C%22section%22%3A%22equities%22%7D%2C%7B%22name%22%3A%22CM%20-%20Close%20Out%20prices%20(.csv)%22%2C%22type%22%3A%22archives%22%2C%22category%22%3A%22capital-market%22%2C%22section%22%3A%22equities%22%7D%2C%7B%22name%22%3A%22CM%20-%20Market%20Activity%20Report%22%2C%22type%22%3A%22archives%22%2C%22category%22%3A%22capital-market%22%2C%22section%22%3A%22equities%22%7D%2C%7B%22name%22%3A%22CM%20-%20Security-wise%20Delivery%20Positions%22%2C%22type%22%3A%22archives%22%2C%22category%22%3A%22capital-market%22%2C%22section%22%3A%22equities%22%7D%2C%7B%22name%22%3A%22CM%20-%20Margin%20Trading%20Disclosure%22%2C%22type%22%3A%22archives%22%2C%22category%22%3A%22capital-market%22%2C%22section%22%3A%22equities%22%7D%2C%7B%22name%22%3A%22Client%20Funding%22%2C%22type%22%3A%22archives%22%2C%22category%22%3A%22capital-market%22%2C%22section%22%3A%22equities%22%7D%2C%7B%22name%22%3A%22VaR%20Multiplier%20files%22%2C%22type%22%3A%22archives%22%2C%22category%22%3A%22capital-market%22%2C%22section%22%3A%22equities%22%7D%2C%7B%22name%22%3A%22ALBM%20Yield%20Statistics%22%2C%22type%22%3A%22archives%22%2C%22category%22%3A%22capital-market%22%2C%22section%22%3A%22equities%22%7D%2C%7B%22name%22%3A%22Extreme%20Loss%20Margin%22%2C%22type%22%3A%22archives%22%2C%22category%22%3A%22capital-market%22%2C%22section%22%3A%22equities%22%7D%2C%7B%22name%22%3A%22CM%20-%20Security%20Catergory%20Impact%20Cost%20(.T01)%22%2C%22type%22%3A%22monthly-reports%22%2C%22category%22%3A%22capital-market%22%2C%22section%22%3A%22equities%22%7D%2C%7B%22name%22%3A%22SME%20-%20BHAVCOPY%20(.csv)%22%2C%22type%22%3A%22monthly-reports%22%2C%22category%22%3A%22capital-market%22%2C%22section%22%3A%22equities%22%7D%5D&date='\n",
    "#date = '05-Nov-2020'\n",
    "tail = '&type=Archives'"
   ]
  },
  {
   "cell_type": "code",
   "execution_count": 198,
   "metadata": {},
   "outputs": [
    {
     "name": "stdout",
     "output_type": "stream",
     "text": [
      "['15-Nov-2020', '16-Nov-2020', '17-Nov-2020']\n"
     ]
    }
   ],
   "source": [
    "import pandas as pd\n",
    "date1 = '2020-11-15'\n",
    "date2 = '2020-11-17'\n",
    "mydates = pd.date_range(date1, date2).strftime(\"%d-%b-%Y\").tolist()\n",
    "print(mydates)"
   ]
  },
  {
   "cell_type": "code",
   "execution_count": null,
   "metadata": {},
   "outputs": [],
   "source": []
  },
  {
   "cell_type": "code",
   "execution_count": 199,
   "metadata": {},
   "outputs": [],
   "source": [
    "def delay ():\n",
    "    time.sleep(2)\n",
    "\n",
    "mainn = 'https://www.nseindia.com/all-reports'\n",
    "webbrowser.open_new_tab(mainn)\n",
    "time.sleep(7)\n",
    "try:\n",
    "    #create chrome driver\n",
    "    #driver = webdrivC:\\Users\\visha\\Desktop\\Harshit\\Web site projects\\NSE Freelancing Project\\24-Dec-2017.ziper.Chrome(ChromeDriverManager().install())\n",
    "    delay()\n",
    "    #go to website\n",
    "    j=1\n",
    "    for i in mydates:\n",
    "        url=head+i+tail\n",
    "        webbrowser.open_new_tab(url + 'doc/')\n",
    "        time.sleep(4)\n",
    "        pyautogui.typewrite(os.getcwd()+'\\\\'+i+'.zip')\n",
    "        time.sleep(2)\n",
    "        pyautogui.hotkey('enter')\n",
    "        j=j+1\n",
    "        if(j%5==0):\n",
    "            os.system('cmd /c \"ipconfig /flushdns\"')\n",
    "            time.sleep(2)\n",
    "            webbrowser.open_new_tab(mainn)\n",
    "            pyautogui.hotkey('ctrl', 'w')\n",
    "        \n",
    "#       \n",
    "        \n",
    "# --------------------------------------------------------------------------------------------------------------\n",
    "\n",
    "#         chromeOptions = webdriver.ChromeOptions()\n",
    "#         prefs = {\"download.default_directory\" : net_path}\n",
    "#         chromeOptions.add_experimental_option(\"prefs\",prefs)\n",
    "#         driver = webdriver.Chrome(ChromeDriverManager().install(), chrome_options=chromeOptions)\n",
    "        \n",
    "#----------------------------------------------------------------------------------------------------------------\n",
    "#         chromeOptions = webdriver.ChromeOptions()\n",
    "#         prefs = {\"download.default_directory\" : path}\n",
    "#         chromeOptions.add_experimental_option(\"prefs\",prefs)\n",
    "#         driver = webdriver.Chrome(ChromeDriverManager().install(), chrome_options=chromeOptions )\n",
    "#         #clear_cache(driver)\n",
    "#         driver.get('https://www.nseindia.com/all-reports')\n",
    "#         driver.get(head+i+tail)\n",
    "#         time.sleep(6)\n",
    "#         driver.close()\n",
    "\n",
    "\n",
    "            \n",
    "        \n",
    "except:\n",
    "    print(\"[-] Please update the chromedriver.exe in the webdriver folder according to your chrome version:https://chromedriver.chromium.org/downloads\")\n"
   ]
  },
  {
   "cell_type": "code",
   "execution_count": null,
   "metadata": {},
   "outputs": [],
   "source": []
  },
  {
   "cell_type": "code",
   "execution_count": 200,
   "metadata": {},
   "outputs": [],
   "source": [
    "time.sleep(5)\n",
    "from zipfile import ZipFile \n",
    "  \n",
    "# specifying the zip file name \n",
    "\n",
    "for i in mydates:\n",
    "    os.mkdir(i)\n",
    "    fname=i+'.zip'\n",
    "    with ZipFile(fname, 'r') as zipObj:\n",
    "        zipObj.extractall(i)\n"
   ]
  },
  {
   "cell_type": "code",
   "execution_count": null,
   "metadata": {},
   "outputs": [],
   "source": []
  },
  {
   "cell_type": "raw",
   "metadata": {},
   "source": [
    "\n"
   ]
  }
 ],
 "metadata": {
  "kernelspec": {
   "display_name": "Python 3",
   "language": "python",
   "name": "python3"
  },
  "language_info": {
   "codemirror_mode": {
    "name": "ipython",
    "version": 3
   },
   "file_extension": ".py",
   "mimetype": "text/x-python",
   "name": "python",
   "nbconvert_exporter": "python",
   "pygments_lexer": "ipython3",
   "version": "3.8.5"
  }
 },
 "nbformat": 4,
 "nbformat_minor": 2
}
