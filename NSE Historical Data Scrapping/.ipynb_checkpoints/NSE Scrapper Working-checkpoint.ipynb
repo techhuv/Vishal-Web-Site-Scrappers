{
 "cells": [
  {
   "cell_type": "code",
   "execution_count": 187,
   "metadata": {},
   "outputs": [],
   "source": [
    "#system libraries\n",
    "import os\n",
    "import random\n",
    "import time\n",
    "\n",
    "#selenium libraries\n",
    "from datetime import date\n",
    "import pyautogui\n",
    "import webbrowser"
   ]
  },
  {
   "cell_type": "code",
   "execution_count": 188,
   "metadata": {},
   "outputs": [],
   "source": [
    "path = os.getcwd()"
   ]
  },
  {
   "cell_type": "code",
   "execution_count": 189,
   "metadata": {},
   "outputs": [],
   "source": [
    "# var chromeOptions = new ChromeOptions();\n",
    "# chromeOptions.AddUserProfilePreference(\"download.default_directory\", \"Your_Path\");\n",
    "# chromeOptions.AddUserProfilePreference(\"intl.accept_languages\", \"nl\");\n",
    "# chromeOptions.AddUserProfilePreference(\"disable-popup-blocking\", \"true\");\n",
    "# var driver = new ChromeDriver(\"Driver_Path\", chromeOptions);"
   ]
  },
  {
   "cell_type": "code",
   "execution_count": 190,
   "metadata": {},
   "outputs": [],
   "source": [
    "head = 'https://www.nseindia.com/api/reports?archives=%5B%7B%22name%22%3A%22NSE%20Market%20Pulse%20(.pdf)%22%2C%22type%22%3A%22archives%22%2C%22category%22%3A%22capital-market%22%2C%22section%22%3A%22equities%22%7D%2C%7B%22name%22%3A%22CM%20-%20VaR%20Margin%20Rates%20(1st%20intra-day)%22%2C%22type%22%3A%22archives%22%2C%22category%22%3A%22capital-market%22%2C%22section%22%3A%22equities%22%7D%2C%7B%22name%22%3A%22CM%20-%20VaR%20Margin%20Rates%20(2nd%20intra-day)%22%2C%22type%22%3A%22archives%22%2C%22category%22%3A%22capital-market%22%2C%22section%22%3A%22equities%22%7D%2C%7B%22name%22%3A%22CM%20-%20VaR%20Margin%20Rates%20(3rd%20intra-day)%22%2C%22type%22%3A%22archives%22%2C%22category%22%3A%22capital-market%22%2C%22section%22%3A%22equities%22%7D%2C%7B%22name%22%3A%22CM%20-%20VaR%20Margin%20Rates%20(4th%20intra-day)%22%2C%22type%22%3A%22archives%22%2C%22category%22%3A%22capital-market%22%2C%22section%22%3A%22equities%22%7D%2C%7B%22name%22%3A%22CM%20-%20VaR%20Margin%20Rates%20(End%20of%20day)%22%2C%22type%22%3A%22archives%22%2C%22category%22%3A%22capital-market%22%2C%22section%22%3A%22equities%22%7D%2C%7B%22name%22%3A%22CM%20-%20VaR%20Margin%20Rates%20(Begin%20of%20day)%22%2C%22type%22%3A%22archives%22%2C%22category%22%3A%22capital-market%22%2C%22section%22%3A%22equities%22%7D%2C%7B%22name%22%3A%22CM%20-%20Daily%20Volatility%22%2C%22type%22%3A%22archives%22%2C%22category%22%3A%22capital-market%22%2C%22section%22%3A%22equities%22%7D%2C%7B%22name%22%3A%22CM%20-%20Category-wise%20Turnover%22%2C%22type%22%3A%22archives%22%2C%22category%22%3A%22capital-market%22%2C%22section%22%3A%22equities%22%7D%2C%7B%22name%22%3A%22CM%20-%20Bhavcopy(csv)%22%2C%22type%22%3A%22archives%22%2C%22category%22%3A%22capital-market%22%2C%22section%22%3A%22equities%22%7D%2C%7B%22name%22%3A%22CM%20-%20Bhavcopy%20(PR.zip)%22%2C%22type%22%3A%22archives%22%2C%22category%22%3A%22capital-market%22%2C%22section%22%3A%22equities%22%7D%2C%7B%22name%22%3A%22CM%20-%20Short%20Selling%22%2C%22type%22%3A%22archives%22%2C%22category%22%3A%22capital-market%22%2C%22section%22%3A%22equities%22%7D%2C%7B%22name%22%3A%22CM%20-%20Close%20Out%20prices%20(.csv)%22%2C%22type%22%3A%22archives%22%2C%22category%22%3A%22capital-market%22%2C%22section%22%3A%22equities%22%7D%2C%7B%22name%22%3A%22CM%20-%20Market%20Activity%20Report%22%2C%22type%22%3A%22archives%22%2C%22category%22%3A%22capital-market%22%2C%22section%22%3A%22equities%22%7D%2C%7B%22name%22%3A%22CM%20-%20Security-wise%20Delivery%20Positions%22%2C%22type%22%3A%22archives%22%2C%22category%22%3A%22capital-market%22%2C%22section%22%3A%22equities%22%7D%2C%7B%22name%22%3A%22CM%20-%20Margin%20Trading%20Disclosure%22%2C%22type%22%3A%22archives%22%2C%22category%22%3A%22capital-market%22%2C%22section%22%3A%22equities%22%7D%2C%7B%22name%22%3A%22Client%20Funding%22%2C%22type%22%3A%22archives%22%2C%22category%22%3A%22capital-market%22%2C%22section%22%3A%22equities%22%7D%2C%7B%22name%22%3A%22VaR%20Multiplier%20files%22%2C%22type%22%3A%22archives%22%2C%22category%22%3A%22capital-market%22%2C%22section%22%3A%22equities%22%7D%2C%7B%22name%22%3A%22ALBM%20Yield%20Statistics%22%2C%22type%22%3A%22archives%22%2C%22category%22%3A%22capital-market%22%2C%22section%22%3A%22equities%22%7D%2C%7B%22name%22%3A%22Extreme%20Loss%20Margin%22%2C%22type%22%3A%22archives%22%2C%22category%22%3A%22capital-market%22%2C%22section%22%3A%22equities%22%7D%2C%7B%22name%22%3A%22CM%20-%20Security%20Catergory%20Impact%20Cost%20(.T01)%22%2C%22type%22%3A%22monthly-reports%22%2C%22category%22%3A%22capital-market%22%2C%22section%22%3A%22equities%22%7D%2C%7B%22name%22%3A%22SME%20-%20BHAVCOPY%20(.csv)%22%2C%22type%22%3A%22monthly-reports%22%2C%22category%22%3A%22capital-market%22%2C%22section%22%3A%22equities%22%7D%5D&date='\n",
    "#date = '05-Nov-2020'\n",
    "tail = '&type=Archives'"
   ]
  },
  {
   "cell_type": "code",
   "execution_count": 191,
   "metadata": {},
   "outputs": [
    {
     "name": "stdout",
     "output_type": "stream",
     "text": [
      "['15-Nov-2020', '16-Nov-2020', '17-Nov-2020']\n"
     ]
    }
   ],
   "source": [
    "import pandas as pd\n",
    "date1 = '2020-11-15'\n",
    "date2 = '2020-11-17'\n",
    "mydates = pd.date_range(date1, date2).strftime(\"%d-%b-%Y\").tolist()\n",
    "print(mydates)"
   ]
  },
  {
   "cell_type": "code",
   "execution_count": null,
   "metadata": {},
   "outputs": [],
   "source": []
  },
  {
   "cell_type": "code",
   "execution_count": 192,
   "metadata": {},
   "outputs": [],
   "source": [
    "def delay ():\n",
    "    time.sleep(2)\n",
    "\n",
    "mainn = 'https://www.nseindia.com/all-reports'\n",
    "webbrowser.open_new_tab(mainn)\n",
    "time.sleep(7)\n",
    "try:\n",
    "    #create chrome driver\n",
    "    #driver = webdrivC:\\Users\\visha\\Desktop\\Harshit\\Web site projects\\NSE Freelancing Project\\24-Dec-2017.ziper.Chrome(ChromeDriverManager().install())\n",
    "    delay()\n",
    "    #go to website\n",
    "    j=1\n",
    "    for i in mydates:\n",
    "        url=head+i+tail\n",
    "        webbrowser.open_new_tab(url + 'doc/')\n",
    "        time.sleep(4)\n",
    "        pyautogui.typewrite(os.getcwd()+'\\\\'+i+'.zip')\n",
    "        time.sleep(2)\n",
    "        pyautogui.hotkey('enter')\n",
    "        j=j+1\n",
    "        if(j%5==0):\n",
    "            os.system('cmd /c \"ipconfig /flushdns\"')\n",
    "            time.sleep(2)\n",
    "            webbrowser.open_new_tab(mainn)\n",
    "            pyautogui.hotkey('ctrl', 'w')\n",
    "        \n",
    "#       \n",
    "        \n",
    "# --------------------------------------------------------------------------------------------------------------\n",
    "\n",
    "#         chromeOptions = webdriver.ChromeOptions()\n",
    "#         prefs = {\"download.default_directory\" : net_path}\n",
    "#         chromeOptions.add_experimental_option(\"prefs\",prefs)\n",
    "#         driver = webdriver.Chrome(ChromeDriverManager().install(), chrome_options=chromeOptions)\n",
    "        \n",
    "#----------------------------------------------------------------------------------------------------------------\n",
    "#         chromeOptions = webdriver.ChromeOptions()\n",
    "#         prefs = {\"download.default_directory\" : path}\n",
    "#         chromeOptions.add_experimental_option(\"prefs\",prefs)\n",
    "#         driver = webdriver.Chrome(ChromeDriverManager().install(), chrome_options=chromeOptions )\n",
    "#         #clear_cache(driver)\n",
    "#         driver.get('https://www.nseindia.com/all-reports')\n",
    "#         driver.get(head+i+tail)\n",
    "#         time.sleep(6)\n",
    "#         driver.close()\n",
    "\n",
    "\n",
    "            \n",
    "        \n",
    "except:\n",
    "    print(\"[-] Please update the chromedriver.exe in the webdriver folder according to your chrome version:https://chromedriver.chromium.org/downloads\")\n"
   ]
  },
  {
   "cell_type": "code",
   "execution_count": null,
   "metadata": {},
   "outputs": [],
   "source": []
  },
  {
   "cell_type": "code",
   "execution_count": 193,
   "metadata": {},
   "outputs": [
    {
     "ename": "FileNotFoundError",
     "evalue": "[Errno 2] No such file or directory: '15-Nov-2020.zip'",
     "output_type": "error",
     "traceback": [
      "\u001b[1;31m---------------------------------------------------------------------------\u001b[0m",
      "\u001b[1;31mFileNotFoundError\u001b[0m                         Traceback (most recent call last)",
      "\u001b[1;32m<ipython-input-193-7baea0e2c943>\u001b[0m in \u001b[0;36m<module>\u001b[1;34m\u001b[0m\n\u001b[0;32m      7\u001b[0m     \u001b[0mos\u001b[0m\u001b[1;33m.\u001b[0m\u001b[0mmkdir\u001b[0m\u001b[1;33m(\u001b[0m\u001b[0mi\u001b[0m\u001b[1;33m)\u001b[0m\u001b[1;33m\u001b[0m\u001b[1;33m\u001b[0m\u001b[0m\n\u001b[0;32m      8\u001b[0m     \u001b[0mfname\u001b[0m\u001b[1;33m=\u001b[0m\u001b[0mi\u001b[0m\u001b[1;33m+\u001b[0m\u001b[1;34m'.zip'\u001b[0m\u001b[1;33m\u001b[0m\u001b[1;33m\u001b[0m\u001b[0m\n\u001b[1;32m----> 9\u001b[1;33m     \u001b[1;32mwith\u001b[0m \u001b[0mZipFile\u001b[0m\u001b[1;33m(\u001b[0m\u001b[0mfname\u001b[0m\u001b[1;33m,\u001b[0m \u001b[1;34m'r'\u001b[0m\u001b[1;33m)\u001b[0m \u001b[1;32mas\u001b[0m \u001b[0mzipObj\u001b[0m\u001b[1;33m:\u001b[0m\u001b[1;33m\u001b[0m\u001b[1;33m\u001b[0m\u001b[0m\n\u001b[0m\u001b[0;32m     10\u001b[0m         \u001b[0mzipObj\u001b[0m\u001b[1;33m.\u001b[0m\u001b[0mextractall\u001b[0m\u001b[1;33m(\u001b[0m\u001b[0mi\u001b[0m\u001b[1;33m)\u001b[0m\u001b[1;33m\u001b[0m\u001b[1;33m\u001b[0m\u001b[0m\n",
      "\u001b[1;32m~\\Anaconda3\\lib\\zipfile.py\u001b[0m in \u001b[0;36m__init__\u001b[1;34m(self, file, mode, compression, allowZip64, compresslevel)\u001b[0m\n\u001b[0;32m   1202\u001b[0m             \u001b[1;32mwhile\u001b[0m \u001b[1;32mTrue\u001b[0m\u001b[1;33m:\u001b[0m\u001b[1;33m\u001b[0m\u001b[1;33m\u001b[0m\u001b[0m\n\u001b[0;32m   1203\u001b[0m                 \u001b[1;32mtry\u001b[0m\u001b[1;33m:\u001b[0m\u001b[1;33m\u001b[0m\u001b[1;33m\u001b[0m\u001b[0m\n\u001b[1;32m-> 1204\u001b[1;33m                     \u001b[0mself\u001b[0m\u001b[1;33m.\u001b[0m\u001b[0mfp\u001b[0m \u001b[1;33m=\u001b[0m \u001b[0mio\u001b[0m\u001b[1;33m.\u001b[0m\u001b[0mopen\u001b[0m\u001b[1;33m(\u001b[0m\u001b[0mfile\u001b[0m\u001b[1;33m,\u001b[0m \u001b[0mfilemode\u001b[0m\u001b[1;33m)\u001b[0m\u001b[1;33m\u001b[0m\u001b[1;33m\u001b[0m\u001b[0m\n\u001b[0m\u001b[0;32m   1205\u001b[0m                 \u001b[1;32mexcept\u001b[0m \u001b[0mOSError\u001b[0m\u001b[1;33m:\u001b[0m\u001b[1;33m\u001b[0m\u001b[1;33m\u001b[0m\u001b[0m\n\u001b[0;32m   1206\u001b[0m                     \u001b[1;32mif\u001b[0m \u001b[0mfilemode\u001b[0m \u001b[1;32min\u001b[0m \u001b[0mmodeDict\u001b[0m\u001b[1;33m:\u001b[0m\u001b[1;33m\u001b[0m\u001b[1;33m\u001b[0m\u001b[0m\n",
      "\u001b[1;31mFileNotFoundError\u001b[0m: [Errno 2] No such file or directory: '15-Nov-2020.zip'"
     ]
    }
   ],
   "source": [
    "time.sleep(5)\n",
    "from zipfile import ZipFile \n",
    "  \n",
    "# specifying the zip file name \n",
    "\n",
    "for i in mydates:\n",
    "    os.mkdir(i)\n",
    "    fname=i+'.zip'\n",
    "    with ZipFile(fname, 'r') as zipObj:\n",
    "        zipObj.extractall(i)\n"
   ]
  },
  {
   "cell_type": "code",
   "execution_count": null,
   "metadata": {},
   "outputs": [],
   "source": []
  },
  {
   "cell_type": "raw",
   "metadata": {},
   "source": [
    "\n"
   ]
  }
 ],
 "metadata": {
  "kernelspec": {
   "display_name": "Python 3",
   "language": "python",
   "name": "python3"
  },
  "language_info": {
   "codemirror_mode": {
    "name": "ipython",
    "version": 3
   },
   "file_extension": ".py",
   "mimetype": "text/x-python",
   "name": "python",
   "nbconvert_exporter": "python",
   "pygments_lexer": "ipython3",
   "version": "3.7.3"
  }
 },
 "nbformat": 4,
 "nbformat_minor": 2
}
