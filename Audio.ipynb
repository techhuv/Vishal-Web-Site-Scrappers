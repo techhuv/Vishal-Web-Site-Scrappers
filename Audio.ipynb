{
 "cells": [
  {
   "cell_type": "code",
   "execution_count": null,
   "metadata": {},
   "outputs": [],
   "source": [
    "# -*- coding: utf-8 -*-\n",
    "\"\"\"\n",
    "Created on Sun Aug 16 10:01:10 2020\n",
    "\n",
    "@author: OHyic\n",
    "\"\"\"\n",
    "\n",
    "#system libraries\n",
    "import os\n",
    "import random\n",
    "import time\n",
    "\n",
    "#selenium libraries\n",
    "from selenium import webdriver\n",
    "from selenium.webdriver.common.keys import Keys\n",
    "from webdriver_manager.chrome import ChromeDriverManager\n",
    "from selenium.webdriver.support.ui import Select\n",
    "from selenium.common.exceptions import NoSuchElementException   \n",
    "from selenium.webdriver.support.ui import WebDriverWait\n",
    "from selenium.webdriver.support import expected_conditions as EC\n",
    "from selenium.webdriver.common.by import By\n",
    "from selenium.common.exceptions import TimeoutException\n",
    "from selenium.common.exceptions import UnexpectedAlertPresentException\n",
    "from selenium.webdriver.chrome.options import Options\n"
   ]
  },
  {
   "cell_type": "code",
   "execution_count": null,
   "metadata": {},
   "outputs": [],
   "source": [
    "import speech_recognition as sr\n",
    "import ffmpy\n",
    "import requests\n",
    "import urllib\n",
    "import pydub"
   ]
  },
  {
   "cell_type": "code",
   "execution_count": null,
   "metadata": {},
   "outputs": [],
   "source": [
    "def delay ():\n",
    "    time.sleep(random.randint(2,10))\n",
    "\n",
    "try:\n",
    "    #create chrome driver\n",
    "    driver = webdriver.Chrome(ChromeDriverManager().install()) \n",
    "    delay()\n",
    "    #go to website\n",
    "    driver.get(\"http://taxinquiry.princegeorgescountymd.gov/TaxInquiry.aspx\")\n",
    "    \n",
    "except:\n",
    "    print(\"[-] Please update the chromedriver.exe in the webdriver folder according to your chrome version:https://chromedriver.chromium.org/downloads\")\n"
   ]
  },
  {
   "cell_type": "code",
   "execution_count": null,
   "metadata": {},
   "outputs": [],
   "source": [
    "frames=driver.find_elements_by_tag_name(\"iframe\")\n",
    "driver.switch_to.frame(frames[0]);\n",
    "delay()\n",
    "\n",
    "#click on checkbox to activate recaptcha\n",
    "driver.find_element_by_class_name(\"recaptcha-checkbox-border\").click()\n"
   ]
  },
  {
   "cell_type": "code",
   "execution_count": null,
   "metadata": {},
   "outputs": [],
   "source": [
    "#switch to recaptcha audio control frame\n",
    "driver.switch_to.default_content()\n",
    "frames=driver.find_element_by_xpath(\"/html/body/div[2]/div[4]\").find_elements_by_tag_name(\"iframe\")\n",
    "driver.switch_to.frame(frames[0])\n",
    "delay()\n",
    "\n",
    "#click on audio challenge\n",
    "driver.find_element_by_id(\"recaptcha-audio-button\").click()\n",
    "delay()\n",
    "delay()\n",
    "delay()\n",
    "delay()\n",
    "#switch to recaptcha audio challenge frame\n",
    "driver.switch_to.default_content()\n",
    "frames= driver.find_elements_by_tag_name(\"iframe\")\n",
    "driver.switch_to.frame(frames[-1])\n",
    "delay()\n"
   ]
  },
  {
   "cell_type": "code",
   "execution_count": null,
   "metadata": {},
   "outputs": [],
   "source": [
    "#click on the play button\n",
    "driver.find_element_by_xpath(\"/html/body/div/div/div[3]/div/button\").click()\n",
    "#get the mp3 audio file\n",
    "delay()\n",
    "delay()\n",
    "src = driver.find_element_by_id(\"audio-source\").get_attribute(\"src\")\n",
    "print(\"[INFO] Audio src: %s\"%src)\n",
    "#download the mp3 audio file from the source\n",
    "urllib.request.urlretrieve(src, os.getcwd()+\"\\\\sample.mp3\")\n",
    "sound = pydub.AudioSegment.from_mp3(os.getcwd()+\"\\\\sample.mp3\")\n",
    "sound.export(os.getcwd()+\"\\\\sample.wav\", format=\"wav\")\n",
    "sample_audio = sr.AudioFile(os.getcwd()+\"\\\\sample.wav\")\n",
    "r= sr.Recognizer()\n",
    "\n",
    "with sample_audio as source:\n",
    "    audio = r.record(source)\n",
    "delay()\n",
    "#translate audio to text with google voice recognition\n",
    "key=r.recognize_google(audio)\n",
    "print(\"[INFO] Recaptcha Passcode: %s\"%key)\n",
    "delay()\n",
    "\n",
    "#key in results and submit\n",
    "delay()\n",
    "delay()\n",
    "driver.find_element_by_id(\"audio-response\").send_keys(key.lower())\n",
    "delay()\n",
    "delay()\n",
    "delay()\n",
    "delay()\n",
    "driver.find_element_by_id(\"audio-response\").send_keys(Keys.ENTER)\n",
    "driver.switch_to.default_content()\n",
    "delay()\n",
    "driver.find_element_by_id(\"recaptcha-demo-submit\").click()\n",
    "delay()"
   ]
  },
  {
   "cell_type": "code",
   "execution_count": null,
   "metadata": {},
   "outputs": [],
   "source": []
  }
 ],
 "metadata": {
  "kernelspec": {
   "display_name": "Python 3",
   "language": "python",
   "name": "python3"
  },
  "language_info": {
   "codemirror_mode": {
    "name": "ipython",
    "version": 3
   },
   "file_extension": ".py",
   "mimetype": "text/x-python",
   "name": "python",
   "nbconvert_exporter": "python",
   "pygments_lexer": "ipython3",
   "version": "3.8.5"
  }
 },
 "nbformat": 4,
 "nbformat_minor": 2
}
