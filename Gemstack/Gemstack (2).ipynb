{
 "cells": [
  {
   "cell_type": "code",
   "execution_count": 56,
   "metadata": {},
   "outputs": [
    {
     "name": "stderr",
     "output_type": "stream",
     "text": [
      "[WDM] - Current google-chrome version is 87.0.4280\n",
      "[WDM] - Get LATEST driver version for 87.0.4280\n",
      "[WDM] - Driver [/home/user/.wdm/drivers/chromedriver/linux64/87.0.4280.88/chromedriver] found in cache\n"
     ]
    },
    {
     "name": "stdout",
     "output_type": "stream",
     "text": [
      " \n"
     ]
    }
   ],
   "source": [
    "import webbrowser\n",
    "from bs4 import BeautifulSoup, NavigableString, Tag \n",
    "from selenium.webdriver.chrome.options import Options\n",
    "from selenium import webdriver\n",
    "import  os\n",
    "from selenium.webdriver.common.by import By\n",
    "from selenium.webdriver.support.ui import WebDriverWait\n",
    "from selenium.webdriver.support import expected_conditions as EC\n",
    "import sys\n",
    "from webdriver_manager.chrome import ChromeDriverManager\n",
    "\n",
    "#setting options for chrome\n",
    "\n",
    "chrome_options = Options()\n",
    "\n",
    "prefs = {\"profile.default_content_setting_values.notifications\" : 2}  #block notifications\n",
    "chrome_options.add_experimental_option(\"prefs\",prefs)\n",
    "chrome_options.add_argument(\"--no-sandbox\")\n",
    "#chrome_options.add_argument(\"--headless\")\n",
    "#chrome_options.add_argument(\"--disable-setuid-sandbox\")\n",
    "chrome_options.add_argument(\"--disable-dev-shm-usage\")\n",
    "#chrome_options.add_argument('--disable-features=VizDisplayCompositor')\n",
    "driver = webdriver.Chrome(ChromeDriverManager().install(),options=chrome_options)\n",
    "\n",
    "#hitting the url\n",
    "\n",
    "driver.get(\"https://partner.engineer.ai/login\")\n",
    "driver.implicitly_wait(20)\n",
    "driver.maximize_window()\n",
    "\n",
    "#xpaths of required fields\n",
    "user_name='/html/body/app/div/div[4]/main/login/div/div[2]/form/div/div/div/div[1]/input'\n",
    "password='/html/body/app/div/div[4]/main/login/div/div[2]/form/div/div/div/div[2]/input'\n",
    "submit_button='/html/body/app/div/div[4]/main/login/div/div[2]/form/div/div/div/button'\n",
    "billing_button='/html/body/app/div/div[4]/main/core/div/left-menu/div/ul/li[3]'\n",
    "tracked_hours_section='/html/body/app/div/div[4]/main/core/div/div/div/billing/ul/li[3]'\n",
    "table_data='/html/body/app/div/div[4]/main/core/div/div/div/billing/app-tracked-hours/div[2]/div[2]'\n",
    "s1 ='/html/body/app/div/div[4]/main/core/div/div/div/billing/app-tracked-hours/div[2]/div[2]/div['\n",
    "s2 = ']/div['\n",
    "s3 = ']'\n",
    "\n",
    "#on_login_page\n",
    "driver.find_element_by_xpath(user_name).send_keys('contact@gemstack.in')\n",
    "driver.find_element_by_xpath(password).send_keys('contact.gemstack')\n",
    "driver.find_element_by_xpath(submit_button).click()\n",
    "\n",
    "#choosing billing from left menu\n",
    "driver.implicitly_wait(20)\n",
    "driver.find_element_by_xpath(billing_button).click()\n",
    "\n",
    "#choosing trached_hours section\n",
    "driver.implicitly_wait(20)\n",
    "driver.find_element_by_xpath(tracked_hours_section).click()\n",
    "\n",
    "\n"
   ]
  },
  {
   "cell_type": "code",
   "execution_count": 63,
   "metadata": {},
   "outputs": [
    {
     "name": "stdout",
     "output_type": "stream",
     "text": [
      "\n",
      " Record 1\n",
      "Anuj Jain\n",
      "anuj.jain@gemstack.in\n",
      "Secure Printing\n",
      "33 Hr 30 Min\n",
      "\n",
      " Record 2\n",
      "Ayush Tayal\n",
      "ayush.tayal@gemstack.in\n",
      "Arctic Juice - Order and Loyalty (MVP)\n",
      "32 Hr 0 Min\n",
      "\n",
      " Record 3\n",
      "Navneet Shirke\n",
      "navneet@gemstack.in\n",
      "LetsMarry\n",
      "42 Hr 36 Min\n",
      "\n",
      " Record 4\n",
      "Prakash Sharma\n",
      "prakash@gemstack.in\n",
      "EDYOU Full/MVP\n",
      "40 Hr 4 Min\n",
      "\n",
      " Record 5\n",
      "Sunil Malviya\n",
      "sunil.malviya@gemstack.in\n",
      "VR Digital Platform MVP\n",
      "40 Hr 0 Min\n"
     ]
    }
   ],
   "source": [
    "\n",
    "#fetching web page source code\n",
    "data = driver.find_elements_by_xpath (table_data)\n",
    "\n",
    "#initializing soup (BS4)\n",
    "soup = BeautifulSoup(driver.page_source, 'lxml')\n",
    "\n",
    "#finding table data from source code\n",
    "table = soup.find('div',attrs = {'class':'listing-table'})\n",
    "\n",
    "#calculate no. of columns in table\n",
    "columns = table.find('div',attrs = {'class':'tHead'})\n",
    "columns = columns.findAll('div')\n",
    "\n",
    "#calculate no. of rows in table\n",
    "tdata= table.find('div',attrs = {'class':'tBody'})\n",
    "rows = tdata.findAll('div',attrs = {'class':'tr'})\n",
    "\n",
    "#printing all the table data\n",
    "no_of_rows=len(rows)\n",
    "columns = table.find('div',attrs = {'class':'tHead'})\n",
    "no_of_columns=len(columns)\n",
    "for i  in range(1,no_of_rows+1):\n",
    "    print(\"\\n Record \"+ str(i))\n",
    "    for j in range(1,no_of_columns+1):\n",
    "        visit_row_column = s1 + str(i) + s2 + str(j)+ s3\n",
    "        g=driver.find_element_by_xpath(visit_row_column).text\n",
    "        print(g)\n",
    "        \n",
    "\n",
    "\n",
    "\n"
   ]
  },
  {
   "cell_type": "code",
   "execution_count": null,
   "metadata": {},
   "outputs": [],
   "source": []
  }
 ],
 "metadata": {
  "kernelspec": {
   "display_name": "Python 3",
   "language": "python",
   "name": "python3"
  },
  "language_info": {
   "codemirror_mode": {
    "name": "ipython",
    "version": 3
   },
   "file_extension": ".py",
   "mimetype": "text/x-python",
   "name": "python",
   "nbconvert_exporter": "python",
   "pygments_lexer": "ipython3",
   "version": "3.8.5"
  }
 },
 "nbformat": 4,
 "nbformat_minor": 4
}
