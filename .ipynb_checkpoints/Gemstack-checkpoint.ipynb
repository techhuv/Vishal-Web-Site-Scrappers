{
 "cells": [
  {
   "cell_type": "code",
   "execution_count": 2,
   "metadata": {},
   "outputs": [],
   "source": [
    "import webbrowser\n",
    "from bs4 import BeautifulSoup, NavigableString, Tag \n",
    "from selenium.webdriver.chrome.options import Options\n",
    "from selenium import webdriver\n",
    "import  os\n",
    "from selenium.webdriver.common.by import By\n",
    "from selenium.webdriver.support.ui import WebDriverWait\n",
    "from selenium.webdriver.support import expected_conditions as EC\n",
    "import sys\n",
    "from webdriver_manager.chrome import ChromeDriverManager\n",
    "from selenium.webdriver.support.select import Select\n",
    "chrome_options = Options()\n",
    "import time\n"
   ]
  },
  {
   "cell_type": "code",
   "execution_count": 3,
   "metadata": {},
   "outputs": [
    {
     "name": "stderr",
     "output_type": "stream",
     "text": [
      "[WDM] - Current google-chrome version is 88.0.4324\n",
      "[WDM] - Get LATEST driver version for 88.0.4324\n",
      "[WDM] - Get LATEST driver version for 88.0.4324\n",
      "[WDM] - Trying to download new driver from http://chromedriver.storage.googleapis.com/88.0.4324.96/chromedriver_win32.zip\n"
     ]
    },
    {
     "name": "stdout",
     "output_type": "stream",
     "text": [
      " \n"
     ]
    },
    {
     "name": "stderr",
     "output_type": "stream",
     "text": [
      "[WDM] - Driver has been saved in cache [C:\\Users\\STARK\\.wdm\\drivers\\chromedriver\\win32\\88.0.4324.96]\n"
     ]
    }
   ],
   "source": [
    "prefs = {\"profile.default_content_setting_values.notifications\" : 2}  #block notifications\n",
    "chrome_options.add_experimental_option(\"prefs\",prefs)\n",
    "chrome_options.add_argument(\"--no-sandbox\")\n",
    "#chrome_options.add_argument(\"--headless\")\n",
    "#chrome_options.add_argument(\"--disable-setuid-sandbox\")\n",
    "chrome_options.add_argument(\"--disable-dev-shm-usage\")\n",
    "#chrome_options.add_argument('--disable-features=VizDisplayCompositor')\n",
    "driver = webdriver.Chrome(ChromeDriverManager().install(),options=chrome_options)"
   ]
  },
  {
   "cell_type": "code",
   "execution_count": null,
   "metadata": {},
   "outputs": [],
   "source": []
  },
  {
   "cell_type": "code",
   "execution_count": 4,
   "metadata": {},
   "outputs": [],
   "source": [
    "driver.get(\"https://partner.engineer.ai/login\")\n",
    "driver.implicitly_wait(20)\n",
    "driver.maximize_window()\n",
    "\n",
    "user_name='/html/body/app/div/div[4]/main/login/div/div[2]/form/div/div/div/div[1]/input'\n",
    "password='/html/body/app/div/div[4]/main/login/div/div[2]/form/div/div/div/div[2]/input'\n",
    "submit_button='/html/body/app/div/div[4]/main/login/div/div[2]/form/div/div/div/button'\n",
    "billing_button='/html/body/app/div/div[4]/main/core/div/left-menu/div/ul/li[3]'\n",
    "no_thanks_button='//*[@id=\"onesignal-slidedown-cancel-button\"]'\n",
    "tracked_hours_section='/html/body/app/div/div[4]/main/core/div/div/div/billing/ul/li[3]'\n",
    "dates_selection = '/html/body/app/div/div[4]/main/core/div/div/div/billing/app-tracked-hours/div[1]/div[1]/select'"
   ]
  },
  {
   "cell_type": "code",
   "execution_count": 5,
   "metadata": {},
   "outputs": [],
   "source": [
    "#on_login_page\n",
    "driver.find_element_by_xpath(user_name).send_keys('contact@gemstack.in')\n",
    "driver.find_element_by_xpath(password).send_keys('contact.gemstack')\n",
    "driver.find_element_by_xpath(submit_button).click()\n"
   ]
  },
  {
   "cell_type": "code",
   "execution_count": 6,
   "metadata": {},
   "outputs": [],
   "source": [
    "#choosing billing from left menu\n",
    "driver.implicitly_wait(20)\n",
    "driver.find_element_by_xpath(billing_button).click()\n",
    "\n",
    "'''\n",
    "#to_remove the popup\n",
    "no_thanks_element = WebDriverWait(driver, 20).until(\n",
    "EC.element_to_be_clickable((By.XPATH, no_thanks_button)))\n",
    "no_thanks_element.click()\n",
    "'''\n",
    "\n",
    "#to get active elements\n",
    "'''\n",
    "soup = BeautifulSoup(driver.page_source, 'html.parser')\n",
    "\n",
    "a=soup.select('li.active')\n",
    "print(\"print statement\", a)\n",
    "'''\n",
    "\n",
    "#try\n",
    "'''\n",
    "print(\"in\")\n",
    "\n",
    "\n",
    "print(\"out\")\n",
    "'''\n",
    "driver.implicitly_wait(120)\n",
    "'''elem = driver.switch_to_active_element()'''\n",
    "driver.find_element_by_xpath(tracked_hours_section).click()\n"
   ]
  },
  {
   "cell_type": "code",
   "execution_count": 7,
   "metadata": {},
   "outputs": [],
   "source": [
    "#/html/body/app/div/div[4]/main/core/div/div/div/billing/app-tracked-hours/div[2]/div[1]"
   ]
  },
  {
   "cell_type": "code",
   "execution_count": null,
   "metadata": {},
   "outputs": [],
   "source": []
  },
  {
   "cell_type": "code",
   "execution_count": 8,
   "metadata": {},
   "outputs": [],
   "source": [
    "soup = BeautifulSoup(driver.page_source, 'lxml')"
   ]
  },
  {
   "cell_type": "code",
   "execution_count": 9,
   "metadata": {},
   "outputs": [],
   "source": [
    "table = soup.find('div',attrs = {'class':'listing-table'})"
   ]
  },
  {
   "cell_type": "code",
   "execution_count": 10,
   "metadata": {},
   "outputs": [],
   "source": [
    "# columns = table.find('div',attrs = {'class':'tHead'})\n",
    "# columns = columns.findAll('div')\n",
    "# for i in columns:\n",
    "#     print(i.text)"
   ]
  },
  {
   "cell_type": "code",
   "execution_count": 11,
   "metadata": {},
   "outputs": [],
   "source": [
    "# driver.implicitly_wait(120)\n",
    "# tdata= soup.find('div',attrs = {'class':'tBody'})\n",
    "# tdata"
   ]
  },
  {
   "cell_type": "code",
   "execution_count": 12,
   "metadata": {},
   "outputs": [],
   "source": [
    "# records = tdata.findAll('div',attrs = {'class':'tr'})\n",
    "# len(records)"
   ]
  },
  {
   "cell_type": "code",
   "execution_count": 13,
   "metadata": {},
   "outputs": [],
   "source": [
    "#tdata"
   ]
  },
  {
   "cell_type": "code",
   "execution_count": 14,
   "metadata": {},
   "outputs": [
    {
     "data": {
      "text/plain": [
       "['NAME OF CREATOR', 'EMAIL ID', 'PROJECT NAME', 'TRACKED HOURS']"
      ]
     },
     "execution_count": 14,
     "metadata": {},
     "output_type": "execute_result"
    }
   ],
   "source": [
    "cols = driver.find_element_by_xpath('/html/body/app/div/div[4]/main/core/div/div/div/billing/app-tracked-hours/div[2]/div[1]').text\n",
    "cols = cols.split('\\n')\n",
    "cols"
   ]
  },
  {
   "cell_type": "code",
   "execution_count": 15,
   "metadata": {},
   "outputs": [
    {
     "data": {
      "text/plain": [
       "['Anuj Jain',\n",
       " 'anuj.jain@gemstack.in',\n",
       " 'Secure Printing',\n",
       " '77 Hr 17 Min',\n",
       " 'Arvind Mishra',\n",
       " 'arvind.mishra@gemstack.in',\n",
       " 'NSCC HPC PORTAL FINAL',\n",
       " '22 Hr 42 Min',\n",
       " 'Ayush Tayal',\n",
       " 'ayush.tayal@gemstack.in',\n",
       " 'Arctic Juice - Order and Loyalty (MVP)',\n",
       " '87 Hr 51 Min',\n",
       " 'Navneet Shirke',\n",
       " 'navneet@gemstack.in',\n",
       " 'LetsMarry',\n",
       " '95 Hr 11 Min',\n",
       " 'Prakash Sharma',\n",
       " 'prakash@gemstack.in',\n",
       " 'EDYOU Full/MVP',\n",
       " '96 Hr 3 Min',\n",
       " 'Shabnam M',\n",
       " 'shabnam.mansoori@gemstack.in',\n",
       " 'hubura',\n",
       " '0',\n",
       " 'Sunil Malviya',\n",
       " 'sunil.malviya@gemstack.in',\n",
       " 'VR Digital Platform MVP',\n",
       " '88 Hr 2 Min',\n",
       " 'Vishal Kanade',\n",
       " 'vishal.kanade@gemstack.in',\n",
       " 'hubura',\n",
       " '0 Hr 0 Min']"
      ]
     },
     "execution_count": 15,
     "metadata": {},
     "output_type": "execute_result"
    }
   ],
   "source": [
    "time.sleep(3)\n",
    "rows = driver.find_element_by_xpath('/html/body/app/div/div[4]/main/core/div/div/div/billing/app-tracked-hours/div[2]/div[2]').text\n",
    "rows = rows.split('\\n')\n",
    "rows"
   ]
  },
  {
   "cell_type": "code",
   "execution_count": 16,
   "metadata": {},
   "outputs": [],
   "source": [
    "import numpy as np\n",
    "arr = np.reshape(rows,(int(len(rows)/4),4))"
   ]
  },
  {
   "cell_type": "code",
   "execution_count": 17,
   "metadata": {},
   "outputs": [],
   "source": [
    "arr = arr.tolist()"
   ]
  },
  {
   "cell_type": "code",
   "execution_count": null,
   "metadata": {},
   "outputs": [],
   "source": []
  },
  {
   "cell_type": "code",
   "execution_count": 18,
   "metadata": {},
   "outputs": [],
   "source": [
    "#driver.find_element_by_xpath(dates_selection).click()"
   ]
  },
  {
   "cell_type": "code",
   "execution_count": 19,
   "metadata": {},
   "outputs": [],
   "source": [
    "#sel = Select(driver.find_element_by_xpath(dates_selection))"
   ]
  },
  {
   "cell_type": "code",
   "execution_count": 20,
   "metadata": {},
   "outputs": [
    {
     "data": {
      "text/plain": [
       "['15 Sep 2020 - 14 Oct 2020',\n",
       " '15 Oct 2020 - 14 Nov 2020',\n",
       " '15 Nov 2020 - 14 Dec 2020',\n",
       " '15 Dec 2020 - 14 Jan 2021',\n",
       " '15 Jan 2021 - 14 Feb 2021']"
      ]
     },
     "execution_count": 20,
     "metadata": {},
     "output_type": "execute_result"
    }
   ],
   "source": [
    "billing_cycles = driver.find_element_by_xpath('/html/body/app/div/div[4]/main/core/div/div/div/billing/app-tracked-hours/div[1]/div[1]/select').text\n",
    "billing_cycles = billing_cycles.split('\\n')\n",
    "billing_cycles"
   ]
  },
  {
   "cell_type": "code",
   "execution_count": 36,
   "metadata": {},
   "outputs": [
    {
     "name": "stdout",
     "output_type": "stream",
     "text": [
      "[['Ayush Tayal', 'ayush.tayal@gemstack.in', 'Sice Me/Full Build', '165 Hr 25 Min'], ['Prakash Sharma', 'prakash@gemstack.in', 'E-commerce App', '0']]\n",
      "[['Anuj Jain', 'anuj.jain@gemstack.in', 'Lamsah', '3 Hr 55 Min'], ['Arvind Mishra', 'arvind.mishra@gemstack.in', 'Fitness App', '58 Hr 38 Min'], ['Ayush Tayal', 'ayush.tayal@gemstack.in', 'Sice Me/Full Build', '183 Hr 35 Min'], ['Prakash Sharma', 'prakash@gemstack.in', 'EDYOU Full/MVP', '104 Hr 9 Min'], ['Sunil Malviya', 'sunil.malviya@gemstack.in', 'VR Digital Platform MVP', '34 Hr 0 Min']]\n",
      "[['Anuj Jain', 'anuj.jain@gemstack.in', 'Secure Printing', '132 Hr 57 Min'], ['Arvind Mishra', 'arvind.mishra@gemstack.in', 'Fitness App', '148 Hr 42 Min'], ['Ayush Tayal', 'ayush.tayal@gemstack.in', 'Sice Me/Full Build', '156 Hr 44 Min'], ['Navneet Shirke', 'navneet@gemstack.in', 'LetsMarry', '68 Hr 0 Min'], ['Prakash Sharma', 'prakash@gemstack.in', 'EDYOU Full/MVP', '168 Hr 3 Min'], ['Sunil Malviya', 'sunil.malviya@gemstack.in', 'VR Digital Platform MVP', '137 Hr 40 Min']]\n",
      "[['Anuj Jain', 'anuj.jain@gemstack.in', 'Secure Printing', '175 Hr 32 Min'], ['Arvind Mishra', 'arvind.mishra@gemstack.in', 'Fitness App', '24 Hr 0 Min'], ['Ayush Tayal', 'ayush.tayal@gemstack.in', 'Sice Me/Full Build', '71 Hr 29 Min'], ['Navneet Shirke', 'navneet@gemstack.in', 'LetsMarry', '151 Hr 22 Min'], ['Prakash Sharma', 'prakash@gemstack.in', 'EDYOU Full/MVP', '176 Hr 23 Min'], ['Sunil Malviya', 'sunil.malviya@gemstack.in', 'VR Digital Platform MVP', '142 Hr 1 Min']]\n",
      "[['Anuj Jain', 'anuj.jain@gemstack.in', 'Secure Printing', '77 Hr 17 Min'], ['Arvind Mishra', 'arvind.mishra@gemstack.in', 'NSCC HPC PORTAL FINAL', '22 Hr 42 Min'], ['Ayush Tayal', 'ayush.tayal@gemstack.in', 'Arctic Juice - Order and Loyalty (MVP)', '87 Hr 51 Min'], ['Navneet Shirke', 'navneet@gemstack.in', 'LetsMarry', '95 Hr 11 Min'], ['Prakash Sharma', 'prakash@gemstack.in', 'EDYOU Full/MVP', '96 Hr 3 Min'], ['Shabnam M', 'shabnam.mansoori@gemstack.in', 'hubura', '0'], ['Sunil Malviya', 'sunil.malviya@gemstack.in', 'VR Digital Platform MVP', '88 Hr 2 Min'], ['Vishal Kanade', 'vishal.kanade@gemstack.in', 'hubura', '0 Hr 0 Min']]\n"
     ]
    }
   ],
   "source": [
    "finaldata=[]\n",
    "for i in range(1,len(billing_cycles)+1):\n",
    "    driver.find_element_by_xpath(dates_selection+'/option['+str(i)+']').click()\n",
    "    time.sleep(3)\n",
    "    rows = driver.find_element_by_xpath('/html/body/app/div/div[4]/main/core/div/div/div/billing/app-tracked-hours/div[2]/div[2]').text\n",
    "    rows = rows.split('\\n')\n",
    "    rows = np.reshape(rows,(int(len(rows)/4),4))\n",
    "    rows = rows.tolist()\n",
    "    print(rows)\n",
    "    print(\"\\n\")\n",
    "    finaldata = finaldata+ rows\n"
   ]
  },
  {
   "cell_type": "code",
   "execution_count": 33,
   "metadata": {},
   "outputs": [
    {
     "data": {
      "text/plain": [
       "[['Ayush Tayal',\n",
       "  'ayush.tayal@gemstack.in',\n",
       "  'Sice Me/Full Build',\n",
       "  '165 Hr 25 Min'],\n",
       " ['Prakash Sharma', 'prakash@gemstack.in', 'E-commerce App', '0'],\n",
       " '15 Sep 2020 - 14 Oct 2020',\n",
       " ['Anuj Jain', 'anuj.jain@gemstack.in', 'Lamsah', '3 Hr 55 Min'],\n",
       " ['Arvind Mishra', 'arvind.mishra@gemstack.in', 'Fitness App', '58 Hr 38 Min'],\n",
       " ['Ayush Tayal',\n",
       "  'ayush.tayal@gemstack.in',\n",
       "  'Sice Me/Full Build',\n",
       "  '183 Hr 35 Min'],\n",
       " ['Prakash Sharma', 'prakash@gemstack.in', 'EDYOU Full/MVP', '104 Hr 9 Min'],\n",
       " ['Sunil Malviya',\n",
       "  'sunil.malviya@gemstack.in',\n",
       "  'VR Digital Platform MVP',\n",
       "  '34 Hr 0 Min'],\n",
       " '15 Oct 2020 - 14 Nov 2020',\n",
       " ['Anuj Jain', 'anuj.jain@gemstack.in', 'Secure Printing', '132 Hr 57 Min'],\n",
       " ['Arvind Mishra',\n",
       "  'arvind.mishra@gemstack.in',\n",
       "  'Fitness App',\n",
       "  '148 Hr 42 Min'],\n",
       " ['Ayush Tayal',\n",
       "  'ayush.tayal@gemstack.in',\n",
       "  'Sice Me/Full Build',\n",
       "  '156 Hr 44 Min'],\n",
       " ['Navneet Shirke', 'navneet@gemstack.in', 'LetsMarry', '68 Hr 0 Min'],\n",
       " ['Prakash Sharma', 'prakash@gemstack.in', 'EDYOU Full/MVP', '168 Hr 3 Min'],\n",
       " ['Sunil Malviya',\n",
       "  'sunil.malviya@gemstack.in',\n",
       "  'VR Digital Platform MVP',\n",
       "  '137 Hr 40 Min'],\n",
       " '15 Nov 2020 - 14 Dec 2020',\n",
       " ['Anuj Jain', 'anuj.jain@gemstack.in', 'Secure Printing', '175 Hr 32 Min'],\n",
       " ['Arvind Mishra', 'arvind.mishra@gemstack.in', 'Fitness App', '24 Hr 0 Min'],\n",
       " ['Ayush Tayal',\n",
       "  'ayush.tayal@gemstack.in',\n",
       "  'Sice Me/Full Build',\n",
       "  '71 Hr 29 Min'],\n",
       " ['Navneet Shirke', 'navneet@gemstack.in', 'LetsMarry', '151 Hr 22 Min'],\n",
       " ['Prakash Sharma', 'prakash@gemstack.in', 'EDYOU Full/MVP', '176 Hr 23 Min'],\n",
       " ['Sunil Malviya',\n",
       "  'sunil.malviya@gemstack.in',\n",
       "  'VR Digital Platform MVP',\n",
       "  '142 Hr 1 Min'],\n",
       " '15 Dec 2020 - 14 Jan 2021',\n",
       " ['Anuj Jain', 'anuj.jain@gemstack.in', 'Secure Printing', '77 Hr 17 Min'],\n",
       " ['Arvind Mishra',\n",
       "  'arvind.mishra@gemstack.in',\n",
       "  'NSCC HPC PORTAL FINAL',\n",
       "  '22 Hr 42 Min'],\n",
       " ['Ayush Tayal',\n",
       "  'ayush.tayal@gemstack.in',\n",
       "  'Arctic Juice - Order and Loyalty (MVP)',\n",
       "  '87 Hr 51 Min'],\n",
       " ['Navneet Shirke', 'navneet@gemstack.in', 'LetsMarry', '95 Hr 11 Min'],\n",
       " ['Prakash Sharma', 'prakash@gemstack.in', 'EDYOU Full/MVP', '96 Hr 3 Min'],\n",
       " ['Shabnam M', 'shabnam.mansoori@gemstack.in', 'hubura', '0'],\n",
       " ['Sunil Malviya',\n",
       "  'sunil.malviya@gemstack.in',\n",
       "  'VR Digital Platform MVP',\n",
       "  '88 Hr 2 Min'],\n",
       " ['Vishal Kanade', 'vishal.kanade@gemstack.in', 'hubura', '0 Hr 0 Min'],\n",
       " '15 Jan 2021 - 14 Feb 2021']"
      ]
     },
     "execution_count": 33,
     "metadata": {},
     "output_type": "execute_result"
    }
   ],
   "source": [
    "finaldata"
   ]
  },
  {
   "cell_type": "code",
   "execution_count": 22,
   "metadata": {},
   "outputs": [],
   "source": [
    "# finaldata = []\n",
    "driver.find_element_by_xpath(dates_selection+'/option['+str(2)+']').click()\n",
    "# time.sleep(3)\n",
    "# rows = driver.find_element_by_xpath('/html/body/app/div/div[4]/main/core/div/div/div/billing/app-tracked-hours/div[2]/div[2]').text\n",
    "# rows = rows.split('\\n')\n",
    "# rows = np.reshape(rows,(int(len(l)/4),4))\n",
    "# rows = rows.tolist()\n",
    "# finaldata = finaldata+ rows"
   ]
  },
  {
   "cell_type": "code",
   "execution_count": 34,
   "metadata": {},
   "outputs": [
    {
     "data": {
      "text/plain": [
       "list"
      ]
     },
     "execution_count": 34,
     "metadata": {},
     "output_type": "execute_result"
    }
   ],
   "source": [
    "type(finaldata)"
   ]
  },
  {
   "cell_type": "code",
   "execution_count": null,
   "metadata": {},
   "outputs": [],
   "source": []
  }
 ],
 "metadata": {
  "kernelspec": {
   "display_name": "Python 3",
   "language": "python",
   "name": "python3"
  },
  "language_info": {
   "codemirror_mode": {
    "name": "ipython",
    "version": 3
   },
   "file_extension": ".py",
   "mimetype": "text/x-python",
   "name": "python",
   "nbconvert_exporter": "python",
   "pygments_lexer": "ipython3",
   "version": "3.8.5"
  }
 },
 "nbformat": 4,
 "nbformat_minor": 4
}
